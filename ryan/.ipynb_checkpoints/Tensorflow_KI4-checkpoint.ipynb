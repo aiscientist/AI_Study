{
 "cells": [
  {
   "cell_type": "markdown",
   "metadata": {},
   "source": [
    "# 문용준님 텐서플로우 슬라이드"
   ]
  },
  {
   "cell_type": "markdown",
   "metadata": {},
   "source": [
    "# Tensorflow 빌딩/실행 구조"
   ]
  },
  {
   "cell_type": "code",
   "execution_count": 4,
   "metadata": {
    "collapsed": true
   },
   "outputs": [
    {
     "name": "stdout",
     "output_type": "stream",
     "text": [
      "Tensor(\"Const_3:0\", shape=(), dtype=int32)\n",
      "1\n",
      "40\n",
      "1\n",
      "2\n",
      "3\n",
      "4\n",
      "5\n",
      "2\n"
     ]
    }
   ],
   "source": [
    "#tensorflow 구조\n",
    "#텐서플로우는 엣지와 노드로 구조화된 그래프로 프로그램이 구성\n",
    "import tensorflow as tf\n",
    "a = tf.constant(1)\n",
    "print(a)\n",
    "with tf.Session() as sess:\n",
    "    print(a.eval())\n",
    "    \n",
    "#처리 순서: 빌딩구조와 실행구조 (session)\n",
    "x = tf.constant(35, name='x')\n",
    "y = tf.Variable(x + 5, name='y')\n",
    "\n",
    "model = tf.global_variables_initializer()\n",
    "\n",
    "with tf.Session() as session:\n",
    "    session.run(model)\n",
    "    print(session.run(y))\n",
    "    \n",
    "#With 구문: close()를 사용 안해도 됨\n",
    "x = tf.Variable(0, name='x')\n",
    "\n",
    "model = tf.global_variables_initializer()\n",
    "\n",
    "with tf.Session() as session:\n",
    "    for i in range(5):\n",
    "        session.run(model)\n",
    "        x = x + 1\n",
    "        print(session.run(x))\n",
    "        \n",
    "#fetch: 1개 실행 예시\n",
    "with tf.Session() as sess:\n",
    "    print(tf.add(1,1).eval())\n",
    "\n",
    "#fetch: 여러개 실행 예시 (Session.run에서 리스트로 여러 개 실행되는 텐서 처리)\n",
    "input1 = tf.constant(3.0)\n",
    "input2 = tf.constant(2.0)\n",
    "intpu3 = tf.constant(5.0)\n",
    "\n",
    "intermed = tf.add(input2, input3)\n",
    "mul = tf.mul(input1, intermed)\n",
    "\n",
    "with tf.Session() as sess:\n",
    "    result = sess.run ()"
   ]
  },
  {
   "cell_type": "code",
   "execution_count": 6,
   "metadata": {
    "collapsed": false
   },
   "outputs": [
    {
     "name": "stdout",
     "output_type": "stream",
     "text": [
      "54\n"
     ]
    }
   ],
   "source": [
    "#Tensorboard 실행\n",
    "a = tf.add(1, 2)\n",
    "b = tf.mul(a, 3)\n",
    "c = tf.add(4, 5)\n",
    "d = tf.mul(c, 6)\n",
    "\n",
    "with tf.Session() as sess:\n",
    "    writer = tf.summary.FileWriter(\"./\", sess.graph)\n",
    "    print(sess.run(d))\n",
    "    writer.close()\n",
    "    \n",
    "#!tensorboard --logdir=\"./\""
   ]
  },
  {
   "cell_type": "markdown",
   "metadata": {},
   "source": [
    "# Tensorflow 실행 구조"
   ]
  },
  {
   "cell_type": "code",
   "execution_count": null,
   "metadata": {
    "collapsed": true
   },
   "outputs": [],
   "source": [
    "\n"
   ]
  },
  {
   "cell_type": "code",
   "execution_count": null,
   "metadata": {
    "collapsed": true
   },
   "outputs": [],
   "source": []
  },
  {
   "cell_type": "code",
   "execution_count": null,
   "metadata": {
    "collapsed": true
   },
   "outputs": [],
   "source": []
  },
  {
   "cell_type": "markdown",
   "metadata": {},
   "source": [
    "## Tensorflow Graph Class 이해하기"
   ]
  },
  {
   "cell_type": "code",
   "execution_count": 4,
   "metadata": {
    "collapsed": false
   },
   "outputs": [],
   "source": [
    "#tf.Graph: Operation과 Tensor들의 집합\n",
    "\n",
    "#Tensorflow 생성\n",
    "import tensorflow as tf\n",
    "x = tf.constant(1.0, name='input')\n",
    "w = tf.Variable(0.8, name='weight')\n",
    "y = tf.mul(w,x, name='output')\n",
    "\n",
    "sess = tf.Session()\n",
    "summary_writer = tf.summary.FileWriter('./test/', sess.graph)"
   ]
  },
  {
   "cell_type": "code",
   "execution_count": 8,
   "metadata": {
    "collapsed": true
   },
   "outputs": [
    {
     "data": {
      "text/plain": [
       "[<tensorflow.python.framework.ops.Operation at 0x7f587d88de90>,\n",
       " <tensorflow.python.framework.ops.Operation at 0x7f587d8530d0>,\n",
       " <tensorflow.python.framework.ops.Operation at 0x7f587d853dd0>,\n",
       " <tensorflow.python.framework.ops.Operation at 0x7f587d853fd0>,\n",
       " <tensorflow.python.framework.ops.Operation at 0x7f587d8534d0>,\n",
       " <tensorflow.python.framework.ops.Operation at 0x7f587d82cf90>,\n",
       " <tensorflow.python.framework.ops.Operation at 0x7f58787ada10>,\n",
       " <tensorflow.python.framework.ops.Operation at 0x7f58787ade50>,\n",
       " <tensorflow.python.framework.ops.Operation at 0x7f58787b6510>,\n",
       " <tensorflow.python.framework.ops.Operation at 0x7f58787b6410>,\n",
       " <tensorflow.python.framework.ops.Operation at 0x7f58787adc50>,\n",
       " <tensorflow.python.framework.ops.Operation at 0x7f58787adb10>,\n",
       " <tensorflow.python.framework.ops.Operation at 0x7f58787b6ed0>,\n",
       " <tensorflow.python.framework.ops.Operation at 0x7f58787d2650>,\n",
       " <tensorflow.python.framework.ops.Operation at 0x7f58787d2a90>,\n",
       " <tensorflow.python.framework.ops.Operation at 0x7f58787d2610>,\n",
       " <tensorflow.python.framework.ops.Operation at 0x7f58787d2c50>,\n",
       " <tensorflow.python.framework.ops.Operation at 0x7f58787b6fd0>]"
      ]
     },
     "execution_count": 8,
     "metadata": {},
     "output_type": "execute_result"
    }
   ],
   "source": [
    "#tensorflow graph 객체\n",
    "#텐서플로에서 graph를 직접 접근해서 node들이 생성된 것을 볼 수 있음\n",
    "graph = tf.get_default_graph()\n",
    "graph.get_operations()"
   ]
  },
  {
   "cell_type": "code",
   "execution_count": 10,
   "metadata": {
    "collapsed": true
   },
   "outputs": [
    {
     "name": "stdout",
     "output_type": "stream",
     "text": [
      "input\n",
      "weight/initial_value\n",
      "weight\n",
      "weight/Assign\n",
      "weight/read\n",
      "output\n",
      "input_1\n",
      "weight_1/initial_value\n",
      "weight_1\n",
      "weight_1/Assign\n",
      "weight_1/read\n",
      "output_1\n",
      "input_2\n",
      "weight_2/initial_value\n",
      "weight_2\n",
      "weight_2/Assign\n",
      "weight_2/read\n",
      "output_2\n"
     ]
    }
   ],
   "source": [
    "#Tensorflow: graph op name\n",
    "for op in graph.get_operations(): print op.name"
   ]
  },
  {
   "cell_type": "markdown",
   "metadata": {},
   "source": [
    "# Node 확인하기 (순차)"
   ]
  },
  {
   "cell_type": "markdown",
   "metadata": {},
   "source": [
    "# Model 저장하기 및 불러오기"
   ]
  },
  {
   "cell_type": "code",
   "execution_count": 8,
   "metadata": {
    "collapsed": false
   },
   "outputs": [],
   "source": [
    "# X 와 Y 의 상관관계를 분석하는 기초적인 선형 회귀 모델을 만들고 실행해봅니다.\n",
    "\n",
    "import tensorflow as tf\n",
    "import numpy as np"
   ]
  },
  {
   "cell_type": "code",
   "execution_count": null,
   "metadata": {
    "collapsed": true
   },
   "outputs": [],
   "source": [
    "# X 와 Y 의 상관관계를 분석하는 기초적인 선형 회귀 모델을 만들고 실행해봅니다.\n",
    "\n",
    "import tensorflow as tf\n",
    "import numpy as np\n",
    "\n",
    "#input_data = [[1,5,3,7,8,10,12],\n",
    "#             [5,8,10,3,9,7,1]]\n",
    "input_data = np.random.randint(10, size=(2,7))\n",
    "label_data = [[0,0,0,1,0],\n",
    "             [1,0,0,0,0]\n",
    "             ]\n",
    "label_data = np.array(label_data)\n",
    "\n",
    "INPUT_SIZE = 7\n",
    "HIDDEN1_SIZE = 10\n",
    "HIDDEN2_SIZE = 8\n",
    "CLASSES = 5\n",
    "\n",
    "Learning_Rate = 0.05\n",
    "\n",
    "x = tf.placeholder( \"float\", shape=[None, INPUT_SIZE], name='x')\n",
    "y_ = tf.placeholder( \"float\", shape=[None, CLASSES], name='y_')\n",
    "\n",
    "#Tensor map 적용\n",
    "tensormap = {x: input_data, y_: label_data}\n",
    "\n",
    "#Layer1\n",
    "W_h1 = tf.Variable( tf.truncated_normal(shape=[INPUT_SIZE, HIDDEN1_SIZE]), dtype = tf.float32, name =\"W_h1\")\n",
    "b_h1 = tf.Variable( tf.zeros(shape=[HIDDEN1_SIZE]), dtype=tf.float32, name =\"b_h1\")\n",
    "\n",
    "#Layer2\n",
    "W_h2 = tf.Variable( tf.truncated_normal(shape=[HIDDEN1_SIZE, HIDDEN2_SIZE]), dtype = tf.float32, name =\"W_h2\")\n",
    "b_h2 = tf.Variable( tf.zeros(shape=[HIDDEN2_SIZE]), dtype=tf.float32, name =\"b_h2\")\n",
    "\n",
    "#Output Layer\n",
    "W_o = tf.Variable( tf.truncated_normal(shape=[HIDDEN2_SIZE, CLASSES]), dtype = tf.float32, name =\"W_o\")\n",
    "b_o = tf.Variable( tf.zeros(shape=[CLASSES]), dtype=tf.float32, name =\"b_o\")\n",
    "\n",
    "param_list = [W_h1, b_h1, W_h2, b_h2, W_o, b_o]\n",
    "\n",
    "with tf.name_scope('hidden_layer_1') as h1scope:\n",
    "    hidden1 = tf.sigmoid( tf.matmul(x, W_h1) + b_h1, name='hidden1')\n",
    "\n",
    "with tf.name_scope('hidden_layer_2') as h2scope:\n",
    "    hidden2 = tf.sigmoid( tf.matmul(hidden1, W_h2) + b_h2, name='hidden2')\n",
    "\n",
    "with tf.name_scope('output_layer') as oscope:\n",
    "    y = tf.sigmoid( tf.matmul(hidden2, W_o) + b_o, name='y')\n",
    "\n",
    "#Summary는 로그를 지속적으로 모으기\n",
    "\n",
    "# 손실 함수를 작성합니다.\n",
    "cost = tf.reduce_sum(-y_*tf.log(y)-(1-y_)*tf.log(1-y), reduction_indices=1)\n",
    "cost = tf.reduce_mean( cost )\n",
    "train = tf.train.GradientDescentOptimizer(Learning_Rate).minimize(cost)\n",
    "\n",
    "comp_pred = tf.equal(tf.argmax(y, 1), tf.argmax(y_, 1))\n",
    "acc = tf.reduce_mean(tf.cast(comp_pred, tf.float32))\n",
    "\n",
    "#Model을 저장합니다.\n",
    "saver = tf.train.Saver(param_list) #아무것도 넣지 않으면 모두 저장이됨\n",
    "\n",
    "# 세션을 생성하고 초기화합니다.\n",
    "with tf.Session() as sess:\n",
    "    sess.run(tf.global_variables_initializer())\n",
    "\n",
    "    merge = tf.summary.merge_all()\n",
    "    # 최적화를 1000번 수행합니다.\n",
    "    for step in range(1000):\n",
    "        # sess.run 을 통해 train_op 와 cost 그래프를 계산합니다.\n",
    "        # 이 때, 가설 수식에 넣어야 할 실제값을 feed_dict 을 통해 전달합니다.\n",
    "        _, loss = sess.run([train, cost], feed_dict=tensormap)\n",
    "        if step % 100 == 0:\n",
    "            saver.save(sess, './model/my-model', global_step=step)\n",
    "            train_writer = tf.summary.FileWriter('./summaries/', sess.graph)\n",
    "            print(\"---------\")\n",
    "            print(\"Step: \", step)\n",
    "            print(\"loss: \", loss)\n",
    "            print(\"accuracy\", acc)\n",
    "\n",
    "#Model Restore\n",
    "#Name을 분명히 입력하자\n",
    "with tf.Session() as sess:\n",
    "    new_saver = tf.train.import_meta_graph('./model/my-model-900.meta')\n",
    "    new_saver.restore(sess, tf.train.latest_checkpoint('./model/'))\n",
    "    result = sess.run( y, tensormap )\n",
    "    print(result)\n",
    "\n",
    "#tensorboard --logdir=./"
   ]
  },
  {
   "cell_type": "code",
   "execution_count": null,
   "metadata": {
    "collapsed": true
   },
   "outputs": [],
   "source": []
  },
  {
   "cell_type": "code",
   "execution_count": null,
   "metadata": {
    "collapsed": true
   },
   "outputs": [],
   "source": []
  }
 ],
 "metadata": {
  "kernelspec": {
   "display_name": "Python [py3]",
   "language": "python",
   "name": "Python [py3]"
  },
  "language_info": {
   "codemirror_mode": {
    "name": "ipython",
    "version": 3
   },
   "file_extension": ".py",
   "mimetype": "text/x-python",
   "name": "python",
   "nbconvert_exporter": "python",
   "pygments_lexer": "ipython3",
   "version": "3.5.2"
  }
 },
 "nbformat": 4,
 "nbformat_minor": 0
}
