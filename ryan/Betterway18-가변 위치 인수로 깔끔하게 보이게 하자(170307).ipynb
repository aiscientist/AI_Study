{
 "cells": [
  {
   "cell_type": "code",
   "execution_count": 2,
   "metadata": {
    "collapsed": false
   },
   "outputs": [
    {
     "name": "stdout",
     "output_type": "stream",
     "text": [
      "My numbers are: 1, 2\n",
      "Hi there\n"
     ]
    }
   ],
   "source": [
    "#디버그 정보 몇개 로그로 남기기.\n",
    "\n",
    "def log(message, values):\n",
    "    if not values:\n",
    "        print(message)\n",
    "    else:\n",
    "        values_str = ', '.join(str(x) for x in values)\n",
    "        print('%s: %s' % (message, values_str))\n",
    "        \n",
    "log('My numbers are', [1, 2])\n",
    "log('Hi there', [])\n",
    "#로그를 남길때 빈 리스트를 넘겨야 하는것은 불편하고 성가신 일"
   ]
  },
  {
   "cell_type": "code",
   "execution_count": 3,
   "metadata": {
    "collapsed": false
   },
   "outputs": [
    {
     "name": "stdout",
     "output_type": "stream",
     "text": [
      "My numbers are: [1, 2]\n",
      "Hi there\n"
     ]
    }
   ],
   "source": [
    "#두 번째 인수를 아예 남겨둔다.\n",
    "#파이썬에서는 * 기호를 마지막 위치 파라메터 이름 앞에 붙이기\n",
    "#로그 메세지는 첫번째 파라메터는 필수지만, 다음에 나오는 인수는 선택적임\n",
    "\n",
    "def log(message, *values):\n",
    "    if not values:\n",
    "        print(message)\n",
    "    else:\n",
    "        values_str = ', '.join(str(x) for x in values)\n",
    "        print('%s: %s' % (message, values_str))\n",
    "        \n",
    "log('My numbers are', [1, 2])\n",
    "log('Hi there') #Better"
   ]
  },
  {
   "cell_type": "code",
   "execution_count": 5,
   "metadata": {
    "collapsed": false
   },
   "outputs": [
    {
     "name": "stdout",
     "output_type": "stream",
     "text": [
      "Favorite colors: 7, 33, 99\n"
     ]
    }
   ],
   "source": [
    "#리스트를 로그 같은 가변 인수 함수를 호출하는데 사용하고 싶다면 * 연산자 사용\n",
    "#파이썬은 시퀀스에 들어 있는 아이템으로 인수 전달\n",
    "favorites = [7, 33, 99]\n",
    "log('Favorite colors', *favorites)"
   ]
  },
  {
   "cell_type": "code",
   "execution_count": 8,
   "metadata": {
    "collapsed": false
   },
   "outputs": [
    {
     "name": "stdout",
     "output_type": "stream",
     "text": [
      "(0, 1, 2, 3, 4, 5, 6, 7, 8, 9)\n"
     ]
    }
   ],
   "source": [
    "#가변 갯수 받는 데는 2가지 문제가 있다.\n",
    "#1. 가변 인수가 함수에 전달 되기 앞서 항상 튜플로 변환\n",
    "#함수를 호출하는쪽에서 제네레이터에 * 연산자를 쓰면, 제네레이터가\n",
    "#모두 소진될 때까지 순회됨\n",
    "#결과로 만들어지는 튜플은 제네레이터로부터 생성된 모든 값을 담으므로\n",
    "#메모리를 많이 차지해 결국 프로그램이 망가 질 수도 있음\n",
    "\n",
    "def my_generator():\n",
    "    for i in range(10):\n",
    "        yield i\n",
    "        \n",
    "def my_func(*args):\n",
    "    print(args)\n",
    "    \n",
    "it = my_generator()\n",
    "my_func(*it)"
   ]
  },
  {
   "cell_type": "code",
   "execution_count": 13,
   "metadata": {
    "collapsed": false
   },
   "outputs": [
    {
     "name": "stdout",
     "output_type": "stream",
     "text": [
      "1: Favorites: 7, 33\n",
      "Favorite numbers: 7: 33\n"
     ]
    }
   ],
   "source": [
    "#두번째 문제는 추후에 호출 코드를 모두 변경하지 않고서는 새 위치 인수를 추가 할 수 없을때\n",
    "#인수 리스트의 앞쪽에 위치 인수를 추가하면 기존의 호출코드 수정 없이는 이상하게 동작\n",
    "\n",
    "def log(sequence, message, *values):\n",
    "    if not values:\n",
    "        print('%s: %s' % (sequence, message))\n",
    "    else:\n",
    "        values_str = ', '.join(str(x) for x in values)\n",
    "        print('%s: %s: %s' % (sequence, message, values_str))\n",
    "        \n",
    "log(1, 'Favorites', 7, 33) # 새로운 용법은 OK\n",
    "\n",
    "log('Favorite numbers', 7, 33) #오래된 용법은 제대로 동작하지 않음"
   ]
  },
  {
   "cell_type": "markdown",
   "metadata": {},
   "source": [
    "## 핵심 정리\n",
    " * def문에서 *args를 사용하면 함수에서 가변 개수의 위치 인수를 받을 수 있다.\n",
    " * * 연산자를 쓰면 시퀀스에 들어 있는 아이템을 함수의 위치 인수로 사용\n",
    " * 제네레이터와 * 연산자를 함께 사용하면 프로그램이 메모리 부족으로 망가 질 수 있ㅇ므\n",
    " * *args를 받는 함수에 새 위치 파라메터를 추가하면 정말 찾기 어려운 버그가 생길 수 있음"
   ]
  }
 ],
 "metadata": {
  "kernelspec": {
   "display_name": "Python [py3]",
   "language": "python",
   "name": "Python [py3]"
  },
  "language_info": {
   "codemirror_mode": {
    "name": "ipython",
    "version": 3
   },
   "file_extension": ".py",
   "mimetype": "text/x-python",
   "name": "python",
   "nbconvert_exporter": "python",
   "pygments_lexer": "ipython3",
   "version": "3.5.2"
  }
 },
 "nbformat": 4,
 "nbformat_minor": 0
}
