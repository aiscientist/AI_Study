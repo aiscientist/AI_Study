{
 "cells": [
  {
   "cell_type": "markdown",
   "metadata": {},
   "source": [
    "# 이 코드는 파이썬 코딩의 기술 - 똑똑하게 코딩하는 법 (브랫 슬라킨 저, 김형철 옮김)을 정리한 내용임"
   ]
  },
  {
   "cell_type": "markdown",
   "metadata": {},
   "source": [
    "# 3.7 정리"
   ]
  },
  {
   "cell_type": "code",
   "execution_count": null,
   "metadata": {
    "collapsed": true
   },
   "outputs": [],
   "source": []
  },
  {
   "cell_type": "code",
   "execution_count": null,
   "metadata": {
    "collapsed": true
   },
   "outputs": [],
   "source": []
  },
  {
   "cell_type": "markdown",
   "metadata": {},
   "source": [
    "# Better Way7: map과 필터 대신에 리스트 컴프리핸선을 사용하자"
   ]
  },
  {
   "cell_type": "code",
   "execution_count": 16,
   "metadata": {
    "collapsed": false
   },
   "outputs": [
    {
     "name": "stdout",
     "output_type": "stream",
     "text": [
      "[1, 4, 9, 16, 25]\n",
      "<map object at 0x7f5ef5f7b358>\n",
      "[4, 16]\n",
      "{1: 'ghost', 2: 'habanero', 3: 'cayenne'} dict_items([('ghost', 1), ('cayenne', 3), ('habanero', 2)])\n",
      "{8, 5, 7} dict_values(['ghost', 'habanero', 'cayenne'])\n"
     ]
    }
   ],
   "source": [
    "#각 숫자에 제곱 필요 시\n",
    "\n",
    "a = [1,2,3,4,5]\n",
    "squares = [x**2 for x in a]\n",
    "print(squares)\n",
    "\n",
    "#Map을 사용하기 원할 시, lambda를 사용하자\n",
    "squares2 = map(lambda x: x ** 2, a)\n",
    "print(squares2)\n",
    "\n",
    "#Map과 달리 리스트 컴프리핸션 사용 시, 입력 리스트에 있는 아이템을 간편하게 걸려짐\n",
    "#2로 나누어 떨어지는 숫자의 제곱만 한다고 했을 때..\n",
    "even_squares = [x**2 for x in a if x % 2 == 0]\n",
    "print(even_squares)\n",
    "\n",
    "#내장함수 filter와 map을 사용해도 되지만 좀 더 어렵다\n",
    "alt = map(lambda x: x**2, filter(lambda x: x % 2 == 0, a))\n",
    "assert even_squares == list(alt)\n",
    "\n",
    "#Dictionary에도 가능하다\n",
    "chile_ranks = {'ghost': 1, 'habanero': 2, 'cayenne': 3}\n",
    "rank_dict = {rank: name for name, rank in chile_ranks.items()}\n",
    "chile_len_set = {len(name) for name in rank_dict.values()}\n",
    "print(rank_dict, chile_ranks.items())\n",
    "print(chile_len_set, rank_dict.values())\n",
    "\n",
    "'''\n",
    "\n",
    "핵심정리\n",
    " - 리스트 컴피리헨션은 추가적인 lambda 표현식이 필요 없어서 내장 함수의 map이나 filter를 사용하는 것보다 명확\n",
    " - 리스트 컴피리헨션을 사용하면 입력 리스트에서 아이템을 간단히 건너 뛸 수 있음. map으로는 filter를 사용하지 않고는 작업 못함\n",
    " - 딕셔너리와 세트도 컴프리헨션 표현식 지원\n",
    "\n",
    "'''"
   ]
  },
  {
   "cell_type": "markdown",
   "metadata": {},
   "source": [
    "# Better Way9: 컴프리헨션이 클 때는, 제네레이터 표현식을 고려하자"
   ]
  },
  {
   "cell_type": "code",
   "execution_count": 32,
   "metadata": {
    "collapsed": false
   },
   "outputs": [
    {
     "name": "stdout",
     "output_type": "stream",
     "text": [
      "1\n",
      "2\n",
      "(3, 1.7320508075688772)\n"
     ]
    }
   ],
   "source": [
    "#컴프리헨션은 데이터가 클 때는 느리다.\n",
    "#제네레이터 표현식은 실행 될 때 출력 시퀀스를 모두 구체화 (메모리에 로딩) 하지 않음\n",
    "a = [1,2,3,4,5,6,7,8,9,10]\n",
    "it = (x for x in a)\n",
    "print(next(it))\n",
    "print(next(it))\n",
    "\n",
    "#표현식의 또다른 점은 다른 표현식과 가능\n",
    "roots = ((x, x ** 0.5) for x in it)\n",
    "print(next(roots))\n",
    "\n",
    "'''\n",
    "핵심 정리\n",
    " - 리스트 컴프리헨션은 큰 입력을 처리할 때 너무 많은 메모리를 소모해서 문제 야기 가능성\n",
    " - 제네레이터 표현식은 이터레이터로 한 번에 한 출력만 만드므로 메모리 문제 피할 수 있음\n",
    " - 한 제네레이터 표현식에서 나온 이터레이터를 또 다른 제네레이터 표현식의 for 서브 표현시으로 넘기는 방식으로 제네레이터 표현 조합\n",
    " - 제네레이터 표현식은 서로 연결되어 있을 때 매우 빠르게 실행.\n",
    "\n",
    "'''"
   ]
  },
  {
   "cell_type": "markdown",
   "metadata": {},
   "source": [
    "# Better way 10: range 보다는 enumerate 을 사용하자"
   ]
  },
  {
   "cell_type": "code",
   "execution_count": 44,
   "metadata": {
    "collapsed": true
   },
   "outputs": [
    {
     "name": "stdout",
     "output_type": "stream",
     "text": [
      "valina is delicious\n",
      "chocolate is delicious\n",
      "pecan is delicious\n",
      "strawberry is delicious\n",
      "1: valina\n",
      "2: chocolate\n",
      "3: pecan\n",
      "4: strawberry\n",
      "1: valina\n",
      "2: chocolate\n",
      "3: pecan\n",
      "4: strawberry\n",
      "1: valina\n",
      "2: chocolate\n",
      "3: pecan\n",
      "4: strawberry\n"
     ]
    }
   ],
   "source": [
    "#내장 함수 range는 정수 집합을 순회 할때 유용\n",
    "#문자열 리스트도 마찬가지\n",
    "flavor_list = ['valina', 'chocolate', 'pecan', 'strawberry']\n",
    "for flavor in flavor_list:\n",
    "    print('%s is delicious' % flavor)\n",
    "    \n",
    "#종종 리스트와 현재 인덱스를 알고 싶은 경우 -> 코드 리스트의 길이 알아내고, 배열 인덱스로 변경하여 세련되지 않음\n",
    "for i in range(len(flavor_list)):\n",
    "    flavor = flavor_list[i]\n",
    "    print('%d: %s' %(i + 1, flavor))\n",
    "    \n",
    "#enumerate로 좀 더 효과적으로\n",
    "for i, flavor in enumerate(flavor_list):\n",
    "    print(\"%d: %s\" % (i + 1, flavor))\n",
    "    \n",
    "#enumerate로 숫자 지정\n",
    "for i, flavor in enumerate(flavor_list, 1): #Plus 되며 증가\n",
    "    print(\"%d: %s\" % (i, flavor))\n",
    "    \n",
    "''' 핵심 정리\n",
    " - enumerate는 이터레이터를 순회하면서 이터레이터에서 각 아이템의 인덱스르 얻어오는 간결한 문법 제공\n",
    " - range로 루프를 실행하고 시퀀스에 인덱스 접근 보다는 enumerate 사용이 나음\n",
    " - enumerate에 두 번째 파라메터를 사용하면 세기 시작할 숫자를 지정 가능 (기본값은 0)\n",
    "'''"
   ]
  },
  {
   "cell_type": "markdown",
   "metadata": {},
   "source": [
    "# Better way 11: 이터레이터를 병렬로 처리하려면 zip으로"
   ]
  },
  {
   "cell_type": "code",
   "execution_count": 51,
   "metadata": {
    "collapsed": false
   },
   "outputs": [
    {
     "name": "stdout",
     "output_type": "stream",
     "text": [
      "Henry\n",
      "Max\n",
      "John\n",
      "Henry\n"
     ]
    }
   ],
   "source": [
    "# 두 리스트를 병렬로 순회하려면 소스 리스트인 names의 길이만큼 순회하면 됨\n",
    "names = ['Max', 'John', 'Henry']\n",
    "letters = [len(n) for n in names]\n",
    "\n",
    "longest_name = None\n",
    "max_letters = 0\n",
    "\n",
    "for i in range(len(names)):\n",
    "    count = letters[i]\n",
    "    if count > max_letters:\n",
    "        longest_name = names[i]\n",
    "        max_letters = count\n",
    "print(longest_name)\n",
    "\n",
    "#전체가 names letters로 인덱스로 접근하여 코드가 보기 어려움\n",
    "#enumerate로 개선해보자\n",
    "\n",
    "for i, name in enumerate(names):\n",
    "    count = letters[i]\n",
    "    if count > max_letters:\n",
    "        longest_name = name\n",
    "        max_letters = count\n",
    "        \n",
    "#zip을 써보자\n",
    "for name, count in zip(names, letters):\n",
    "    if count > max_letters:\n",
    "        longest_name = name\n",
    "        max_letters = count\n",
    "        \n",
    "'''\n",
    "zip의 문제\n",
    "1. 문제는 python2에서 제공하는 zip은 제네레이터가 아님\n",
    "  -> 제공한 이터레이터 순회하여 모든 튜플을 반환 -> 많은 메모리 소모\n",
    "  -> 큰 이터레이터는 zip으로 묶어서 itertools에 있는 izip을 사용해야함\n",
    "  \n",
    "2. 문제는 입력 이터레이터의 길이가 다르면 zip이 이상하게 동작\n",
    "  EX) names 리스트에 다른 이름을 추가 했지만 letters의 카운터업데이트하는 것을 잊었다 가정\n",
    "  zip잘라내기 동작이 이상하니, 내장모듈 itertools의 zip_longest 사용하는 방법 고안\n",
    "'''\n",
    "names.append('Rosalind')\n",
    "for name, count in zip(names, letters):\n",
    "    print(name) #새로운 Rosa의 결과가 없음\n",
    "    \n",
    "''' 핵심정리\n",
    " - 내장 함수 zip은 여러 이터레이터를 병렬로 순회 할때 사용\n",
    " - python3 의 zip은 자연 제네레이터인데 python2의 zip은 전체 결과 튜플로 반환 (오류 발생)\n",
    " - 길이가 다른 이터레이터를 사용하면 zip은 결과를 조용히 자름\n",
    " - 내장모듈 itertools와 zip_longest 함수 쓰면 길이에 상관없이 병렬 순회 가능 (Better Way 46 사용 참고)\n",
    "'''"
   ]
  },
  {
   "cell_type": "markdown",
   "metadata": {
    "collapsed": true
   },
   "source": [
    "# Better Way 12: for와 while 루프 뒤에는 else 블록을 쓰지 말자"
   ]
  },
  {
   "cell_type": "code",
   "execution_count": 7,
   "metadata": {
    "collapsed": false
   },
   "outputs": [
    {
     "name": "stdout",
     "output_type": "stream",
     "text": [
      "Loop 0\n",
      "Loop 1\n",
      "Loop 2\n",
      "Else Loop\n",
      "Loop 0\n",
      "Loop 1\n",
      "For Else block!\n",
      "Testing 2\n",
      "Testing 3\n",
      "Testing 4\n",
      "Coprime\n"
     ]
    },
    {
     "data": {
      "text/plain": [
       "' 핵심 정리\\n - 파이썬에서는 for와 while 루프의 내부 블록 바로 뒤에 else 블록을 사용할 수 있게 하는 특별한 문법이 있다.\\n - 루프 본문이 break문을 만나지 않을 경우에만 루프 다음이 오는 else 블록이 실행\\n - 루프 뒤에 else 블록을 사용하면 직관적이지 않고 혼동하기 쉬우니 사용하지 말아야 함.\\n'"
      ]
     },
     "execution_count": 7,
     "metadata": {},
     "output_type": "execute_result"
    }
   ],
   "source": [
    "#파이썬은 다른 언어와 다른 추가적인 기능이 있는데, 루프 반복 내부에 바로 else를 쓸 수 있음\n",
    "for i in range(3):\n",
    "    print('Loop %d' % i)\n",
    "else:\n",
    "    print('Else Loop')\n",
    "    \n",
    "#Else는 루프가 완료되지 않는다면 블록을 실행한다는 의미가 아님. 실제로는 루프에서 else블록이 되야 가능\n",
    "for i in range(3):\n",
    "    print('Loop %d' % i)\n",
    "    if i == 1:\n",
    "        break\n",
    "else:\n",
    "    print('Else block!')\n",
    "    \n",
    "#다른 놀랄만한 점은 시퀀스를 처리하는 루프문에서도 else 블록이 즉시 실행\n",
    "for x in []:\n",
    "    print('Never runs')\n",
    "else:\n",
    "    print('For Else block!')\n",
    "\n",
    "\n",
    "#두 숫자가 서로소인지 판별 (공약수가 1밖에 없는 수)\n",
    "a = 4\n",
    "b = 9\n",
    "for i in range(2, min(a, b) + 1):\n",
    "    print('Testing', i)\n",
    "    if a % i == 0 and b % i == 0:\n",
    "        print('Not comprime')\n",
    "        break\n",
    "else:\n",
    "    print('Coprime')\n",
    "    \n",
    "\n",
    "#이런 방식으로 하지말고, 헬퍼 함수를 작성\n",
    "#1. 찾으라는 조건을 찾았을 때 바로 반환하는 함수. 루프가 실패로 끝나면 기본 결과 반환\n",
    "def coprime(a,b):\n",
    "    for i in range(2, min(a, b) + 1):\n",
    "        if a % 1 == 0 and b % i == 0:\n",
    "            return False\n",
    "    return True\n",
    "\n",
    "#두번째는 루프에서 찾아라는 대상을 알려주는 결과 변수, 뭔가 찾으면 즉시 break\n",
    "def coprime(a,b):\n",
    "    is_coprime = True\n",
    "    for i in range(2, min(a,b) + 1):\n",
    "        if a % i == 0 and b % i == 0:\n",
    "            is_coprime = False\n",
    "            break\n",
    "    return is_coprime\n",
    "    \n",
    "''' 핵심 정리\n",
    " - 파이썬에서는 for와 while 루프의 내부 블록 바로 뒤에 else 블록을 사용할 수 있게 하는 특별한 문법이 있다.\n",
    " - 루프 본문이 break문을 만나지 않을 경우에만 루프 다음이 오는 else 블록이 실행\n",
    " - 루프 뒤에 else 블록을 사용하면 직관적이지 않고 혼동하기 쉬우니 사용하지 말아야 함.\n",
    "'''"
   ]
  },
  {
   "cell_type": "markdown",
   "metadata": {},
   "source": [
    "# Better way 13: try/except/else/finally에서 각 블록의 장점 이용하기"
   ]
  },
  {
   "cell_type": "markdown",
   "metadata": {},
   "source": [
    "# Better way 14: None을 반환하기 보다는 예외를 일으키자"
   ]
  },
  {
   "cell_type": "markdown",
   "metadata": {
    "collapsed": true
   },
   "source": [
    "# Chapter 3: 클래스와 상속"
   ]
  },
  {
   "cell_type": "markdown",
   "metadata": {
    "collapsed": true
   },
   "source": [
    "# 딕셔너리와 튜플보다는 헬퍼 클레스로 관리하자"
   ]
  },
  {
   "cell_type": "code",
   "execution_count": 16,
   "metadata": {
    "collapsed": false
   },
   "outputs": [
    {
     "ename": "IndentationError",
     "evalue": "expected an indented block (<ipython-input-16-eca6cc7111a6>, line 75)",
     "output_type": "error",
     "traceback": [
      "\u001b[0;36m  File \u001b[0;32m\"<ipython-input-16-eca6cc7111a6>\"\u001b[0;36m, line \u001b[0;32m75\u001b[0m\n\u001b[0;31m    return score_sum / score_count\u001b[0m\n\u001b[0m    ^\u001b[0m\n\u001b[0;31mIndentationError\u001b[0m\u001b[0;31m:\u001b[0m expected an indented block\n"
     ]
    }
   ],
   "source": [
    "#딕셔너리 타입은 객체의 수명이 지속되는 동안 동적인 내부 상태를 관리하는 용도로 아주 좋다\n",
    "#'동적'이란 예상하지 못한 식별자들을 관리해야 하는 상황을 의미\n",
    "#예를들어 이름을 모르는 학생 집단의 성적을 기록하고 싶을 때 미리 정의된 속성을 사용하지 않고\n",
    "#딕셔너리에 이름을 저장하는 클래스를 지정 가능하다\n",
    "\n",
    "class SimpleGradebook(object):\n",
    "    def __init__(self):\n",
    "        self._grades = {}\n",
    "        \n",
    "    def add_student(self, name):\n",
    "        self._grades[name] = []\n",
    "        \n",
    "    def report_grade(self, name, score):\n",
    "        self._grades[name].append(score)\n",
    "        \n",
    "    def average_grade(self, name):\n",
    "        grades = self._grades[name]\n",
    "        return sum(grades) / len(grades)\n",
    "    \n",
    "#Use Class\n",
    "book = SimpleGradebook()\n",
    "book.add_student('Newton')\n",
    "book.report_grade('Newton', 90)\n",
    "print(book.average_grade('Newton'))\n",
    "\n",
    "#Dictionary is kinda simple. For example, we want to save scores by subjects\n",
    "#in SimpleGradebook. In this case, _grades dict converts student name (key)\n",
    "#into different dictionary mapping.\n",
    "#가장 안쪽에 있는 딕셔너리는 과목 (키)를 성적(값)에 매핑한다.\n",
    "\n",
    "class BySubjectGradebook(object):\n",
    "    def __init__(self):\n",
    "        self._grades = {}\n",
    "    \n",
    "    def add_student(self, name):\n",
    "        self._grades[name] = {}\n",
    "        \n",
    "    def report_grades(self, name, subject, grade):\n",
    "        by_subject = self._grades[name]\n",
    "        grade_list = by_subject.setdefault(subject, [])\n",
    "        grade_list.append(grade)\n",
    "        \n",
    "    def average_grade(self, name):\n",
    "        by_subject = self._grades[name]\n",
    "        total, count = 0, 0\n",
    "        for grades in by_subject.values():\n",
    "            total += sum(grades)\n",
    "            count += len(grades)\n",
    "        return total / count\n",
    "    \n",
    "#Class Usage still same\n",
    "book2 = BySubjectGradebook()\n",
    "book2.add_student('Newton')\n",
    "book2.report_grades('Newton', 'Math', 90)\n",
    "book2.report_grades('Newton', 'Math', 80)\n",
    "book2.report_grades('Newton', 'Korean', 40)\n",
    "book2.report_grades('Newton', 'Korean', 20)\n",
    "print(book2.average_grade('Newton'))\n",
    "\n",
    "#Weighted Score\n",
    "class WeightedGradebook(object):\n",
    "    \n",
    "    #...\n",
    "    def report_grades(self, name, subject, score, weight):\n",
    "        by_subject = self._grades[name]\n",
    "        grade_list = by_subject.setdefault(subject, [])\n",
    "        grade_list.append((score, weights))\n",
    "    \n",
    "    def average_grades(self, name):\n",
    "        by_subject = self._grades[name]\n",
    "        score_sum, score_count = 0,0\n",
    "        for subject, scores in by_subject.items():\n",
    "            subject_avg, total_weight = 0, 0\n",
    "            for score, weight in scores:\n",
    "        return score_sum / score_count\n",
    "    \n",
    "book.report_grade('Albert', 'Math', 80, 0.10)"
   ]
  },
  {
   "cell_type": "code",
   "execution_count": 20,
   "metadata": {
    "collapsed": false
   },
   "outputs": [
    {
     "data": {
      "text/plain": [
       "95.0"
      ]
     },
     "execution_count": 20,
     "metadata": {},
     "output_type": "execute_result"
    }
   ],
   "source": [
    "#클래스 리팩토링: 간단한 정보를 담기에는 위의 클레스는 너무 무거움\n",
    "#p93 중단\n",
    "\n",
    "grades = []\n",
    "grades.append((95, 0.45))\n",
    "\n",
    "#...\n",
    "total = sum(score * weight for score, weight in grades)\n",
    "total_weight = sum(weight for _, weight in grades)\n",
    "average_grade = total / total_weight\n",
    "average_grade"
   ]
  },
  {
   "cell_type": "code",
   "execution_count": 8,
   "metadata": {
    "collapsed": false,
    "scrolled": true
   },
   "outputs": [
    {
     "name": "stdout",
     "output_type": "stream",
     "text": [
      "Value : 7\n",
      "Value : None\n"
     ]
    }
   ],
   "source": [
    "#Set default: 딕셔너리에서 관련 벨류를 찾고 없으면 돌려줌\n",
    "dict = {'Name': 'Zara', 'Age': 7}\n",
    "\n",
    "print(\"Value : %s\" %  dict.setdefault('Age', None))\n",
    "print(\"Value : %s\" %  dict.setdefault('Sex', None))"
   ]
  }
 ],
 "metadata": {
  "kernelspec": {
   "display_name": "Python [py3]",
   "language": "python",
   "name": "Python [py3]"
  },
  "language_info": {
   "codemirror_mode": {
    "name": "ipython",
    "version": 3
   },
   "file_extension": ".py",
   "mimetype": "text/x-python",
   "name": "python",
   "nbconvert_exporter": "python",
   "pygments_lexer": "ipython3",
   "version": "3.5.2"
  }
 },
 "nbformat": 4,
 "nbformat_minor": 0
}
